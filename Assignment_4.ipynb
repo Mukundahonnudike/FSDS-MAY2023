{
 "cells": [
  {
   "cell_type": "code",
   "execution_count": null,
   "id": "ac2a1741",
   "metadata": {},
   "outputs": [],
   "source": [
    "#1. What exactly is []?\n",
    "\n",
    "\"\"\"\n",
    "Square brackets are used to hold list elements within, or empty list.\n",
    "\"\"\""
   ]
  },
  {
   "cell_type": "code",
   "execution_count": 2,
   "id": "9d8e98fc",
   "metadata": {},
   "outputs": [
    {
     "name": "stdout",
     "output_type": "stream",
     "text": [
      "[2, 4, 'hello', 6, 8, 10]\n"
     ]
    }
   ],
   "source": [
    "#2. In a list of values stored in a variable called spam, how would you assign the value 'hello' as the third value? (Assume [2, 4, 6, 8, 10] are in spam.)\n",
    "\n",
    "spam = [2, 4, 6, 8, 10]\n",
    "spam.insert(2, 'hello')\n",
    "print(spam)"
   ]
  },
  {
   "cell_type": "code",
   "execution_count": 1,
   "id": "1fbc0872",
   "metadata": {},
   "outputs": [
    {
     "data": {
      "text/plain": [
       "'d'"
      ]
     },
     "execution_count": 1,
     "metadata": {},
     "output_type": "execute_result"
    }
   ],
   "source": [
    "#Let's pretend the spam includes the list ['a', 'b', 'c', 'd'] for the next three queries.\n",
    "#3. What is the value of spam[int(int('3' * 2) / 11)]?\n",
    "\n",
    "# The output is d\n",
    "\n",
    "spam = spam = ['a', 'b', 'c', 'd']\n",
    "spam[int(int('3' * 2) / 11)]"
   ]
  },
  {
   "cell_type": "code",
   "execution_count": 3,
   "id": "bdaac7c3",
   "metadata": {},
   "outputs": [
    {
     "data": {
      "text/plain": [
       "'d'"
      ]
     },
     "execution_count": 3,
     "metadata": {},
     "output_type": "execute_result"
    }
   ],
   "source": [
    "#4. What is the value of spam[-1]?\n",
    "\n",
    "#The output is d\n",
    "\n",
    "spam = ['a', 'b', 'c', 'd']\n",
    "spam[-1]"
   ]
  },
  {
   "cell_type": "code",
   "execution_count": 4,
   "id": "eb75727c",
   "metadata": {},
   "outputs": [
    {
     "data": {
      "text/plain": [
       "'c'"
      ]
     },
     "execution_count": 4,
     "metadata": {},
     "output_type": "execute_result"
    }
   ],
   "source": [
    "#5. What is the value of spam[:2]?\n",
    "\n",
    "#The output is c\n",
    "\n",
    "spam = ['a', 'b', 'c', 'd']\n",
    "spam[2]"
   ]
  },
  {
   "cell_type": "code",
   "execution_count": 7,
   "id": "2d5da2bc",
   "metadata": {},
   "outputs": [
    {
     "data": {
      "text/plain": [
       "1"
      ]
     },
     "execution_count": 7,
     "metadata": {},
     "output_type": "execute_result"
    }
   ],
   "source": [
    "#Let's pretend bacon has the list [3.14, 'cat,' 11, 'cat,' True] for the next three questions.\n",
    "#6. What is the value of bacon.index('cat')?\n",
    "\n",
    "\n",
    "#The indexing in python i starts from zero,so the output is one\n",
    "\n",
    "bacon = [3.14, 'cat', 11, 'cat', 'true']\n",
    "bacon.index('cat')"
   ]
  },
  {
   "cell_type": "code",
   "execution_count": 10,
   "id": "fc266173",
   "metadata": {},
   "outputs": [
    {
     "name": "stdout",
     "output_type": "stream",
     "text": [
      "[3.14, 'cat', 11, 'cat', 'true', 99]\n"
     ]
    }
   ],
   "source": [
    "#7. How does bacon.append(99) change the look of the list value in bacon?\n",
    "\n",
    "#Append in python adds the item at the last always.\n",
    "\n",
    "bacon = [3.14, 'cat', 11, 'cat', 'true']\n",
    "bacon.append(99)\n",
    "print(bacon)"
   ]
  },
  {
   "cell_type": "code",
   "execution_count": 11,
   "id": "5b187a6a",
   "metadata": {},
   "outputs": [
    {
     "name": "stdout",
     "output_type": "stream",
     "text": [
      "[3.14, 11, 'cat', 'true']\n"
     ]
    }
   ],
   "source": [
    "#8. How does bacon.remove('cat') change the look of the list in bacon?\n",
    "\n",
    "#The 1st index with the name cat is removed and the execution is stoppedso only one cat is removed from the list\n",
    "\n",
    "bacon = [3.14, 'cat', 11, 'cat', 'true']\n",
    "bacon.remove('cat')\n",
    "print(bacon)"
   ]
  },
  {
   "cell_type": "code",
   "execution_count": null,
   "id": "3a74543c",
   "metadata": {},
   "outputs": [],
   "source": [
    "#9. What are the list concatenation and list replication operators?\n",
    "\n",
    "\"\"\"\n",
    "Concatenation of list simply adds one list items to another at the end.The operator for list concatination is +\n",
    "The replication operator is used to replicate a group of bits n times. The number in front of the brackets is known as the repetition multiplier.The operator for list replication is *.\n",
    "\n",
    "\"\"\""
   ]
  },
  {
   "cell_type": "code",
   "execution_count": null,
   "id": "36af23e2",
   "metadata": {},
   "outputs": [],
   "source": [
    "#10. What is difference between the list methods append() and insert()?\n",
    "\n",
    "\"\"\"\n",
    "both insert() and append() are used to add elements into the list, but there is difference between them, i.e.\n",
    "\n",
    "list.append(x), command is used to add one or more elements to the list and the elements are always added after the last element in list\n",
    "\n",
    "list.insert(i,x), command is used to add elements to the list at desired location or index within the list\n",
    "\"\"\""
   ]
  },
  {
   "cell_type": "code",
   "execution_count": null,
   "id": "70ec56f2",
   "metadata": {},
   "outputs": [],
   "source": [
    "#11. What are the two methods for removing items from a list?\n",
    "\n",
    "\"\"\"\n",
    "The two methods to remove elements from the list are remove() and pop()\n",
    "\n",
    "list.remove(x), x is the element that will be removed from the list( the 1st element x in the list will be removed)\n",
    "list.pop([i]), we can remove element at a specific position from the list using pop([i]), is the index of the elemsnt to be removed\n",
    "\n",
    "\"\"\""
   ]
  },
  {
   "cell_type": "code",
   "execution_count": null,
   "id": "0c0fc8c6",
   "metadata": {},
   "outputs": [],
   "source": [
    "#12. Describe how list values and string values are identical.\n",
    "\"\"\"\n",
    "Lists are similar to strings, which are ordered collections of characters, except that the elements of a list can have any type and for any one list, the items can be of different types. There are several ways to create a new list. The simplest is to enclose the elements in square brackets ( [ and ] ).\n",
    "\n",
    "\"\"\""
   ]
  },
  {
   "cell_type": "code",
   "execution_count": null,
   "id": "d5aa8c34",
   "metadata": {},
   "outputs": [],
   "source": [
    "#13. What's the difference between tuples and lists?\n",
    "\n",
    "\"\"\"\n",
    "Lists in python is defined as an ordered sequence of statements that are mutable.Lists are declared using [].\n",
    "\n",
    "Tuples in python is defined as an ordered sequence of statements that are not mutable. Tuples are declared using ().\n",
    "\n",
    "\"\"\"\n"
   ]
  },
  {
   "cell_type": "code",
   "execution_count": 15,
   "id": "341e1858",
   "metadata": {},
   "outputs": [
    {
     "name": "stdout",
     "output_type": "stream",
     "text": [
      "42\n",
      "<class 'tuple'>\n"
     ]
    }
   ],
   "source": [
    "#14. How do you type a tuple value that only contains the integer 42?\n",
    "\n",
    "T = (42,)\n",
    "print(T[0])\n",
    "print(type(T))\n"
   ]
  },
  {
   "cell_type": "code",
   "execution_count": 9,
   "id": "4b9fc655",
   "metadata": {},
   "outputs": [
    {
     "name": "stdout",
     "output_type": "stream",
     "text": [
      "<class 'list'>\n",
      "(1, 2, 3, (4, 5))\n",
      "<class 'tuple'>\n",
      "<class 'tuple'>\n",
      "<class 'list'>\n"
     ]
    }
   ],
   "source": [
    "#15. How do you get a list value's tuple form? How do you get a tuple value's list form?\n",
    "\n",
    "\"\"\"\n",
    "A list of elements initially declared in list form can be conveerto tuple form by using command tuple(list)\n",
    "similarly a list of elements initially declared as tuple can be converted to list form by using list(tuple)\n",
    "\"\"\"\n",
    "\n",
    "L = [1,2,3,(4,5)]\n",
    "print(type(L))\n",
    "tup = tuple(L)\n",
    "print(tup)\n",
    "print(type(tup))\n",
    "tup1 = (1,2,3,4)\n",
    "print(type(tup1))\n",
    "L1=list(tup1)\n",
    "print(type(L1))"
   ]
  },
  {
   "cell_type": "code",
   "execution_count": null,
   "id": "49a49388",
   "metadata": {},
   "outputs": [],
   "source": [
    "#16. Variables that \"contain\" list values are not necessarily lists themselves. Instead, what do they contain?\n",
    "\n",
    "\"\"\"\n",
    "Variables contain references to the list, instead of list values themselves, mutable data types store references to the list values and immutable data types store variable values itself\n",
    "\n",
    "\"\"\""
   ]
  },
  {
   "cell_type": "code",
   "execution_count": null,
   "id": "ec07be7e",
   "metadata": {},
   "outputs": [],
   "source": [
    "#17. How do you distinguish between copy.copy() and copy.deepcopy()?\n",
    "\n",
    "\"\"\"\n",
    "copy.copy() or shallow copy\n",
    "A shallow copy creates a new compound object and then references the objects contained in the original within it, which means it constructs a new collection object and then populates it with references to the child objects found in the original. The copying process does not recurse and therefore won’t create copies of the child objects themselves. In the case of shallow copy, a reference of an object is copied into another object. It means that any changes made to a copy of an object do reflect in the original object. In python, this is implemented using the “copy()” function. \n",
    "\n",
    "copy.deepcopy() or deep copy\n",
    "A deep copy creates a new compound object before inserting copies of the items found in the original into it in a recursive manner. It means first constructing a new collection object and then recursively populating it with copies of the child objects found in the original. In the case of deep copy, a copy of the object is copied into another object. It means that any changes made to a copy of the object do not reflect in the original object. \n",
    "\n",
    "\"\"\""
   ]
  }
 ],
 "metadata": {
  "kernelspec": {
   "display_name": "Python 3 (ipykernel)",
   "language": "python",
   "name": "python3"
  },
  "language_info": {
   "codemirror_mode": {
    "name": "ipython",
    "version": 3
   },
   "file_extension": ".py",
   "mimetype": "text/x-python",
   "name": "python",
   "nbconvert_exporter": "python",
   "pygments_lexer": "ipython3",
   "version": "3.10.9"
  }
 },
 "nbformat": 4,
 "nbformat_minor": 5
}
