{
 "cells": [
  {
   "cell_type": "code",
   "execution_count": 1,
   "id": "2debb924",
   "metadata": {},
   "outputs": [
    {
     "data": {
      "text/plain": [
       "16"
      ]
     },
     "execution_count": 1,
     "metadata": {},
     "output_type": "execute_result"
    }
   ],
   "source": [
    "\"\"\"\n",
    "1. What is a lambda function in Python, and how does it differ from a regular function?\n",
    "\n",
    "Pyhton provides  convenient mechanism for creating anonymous  functions called lambda functions and permits them by invoking them using their reference\n",
    "Lambda functions are ideally used when we have something simple to be done basically single line expressions. Lambda functions are not declared using standard format like def keyword\n",
    "\n",
    "a=lambda x: x**2\n",
    "a(4)\n",
    "\n",
    "\"\"\""
   ]
  },
  {
   "cell_type": "code",
   "execution_count": 1,
   "id": "cd1ab849",
   "metadata": {},
   "outputs": [
    {
     "name": "stdout",
     "output_type": "stream",
     "text": [
      "[2, 12, 10, 12, 12]\n"
     ]
    }
   ],
   "source": [
    "\"\"\"\n",
    "2. Can a lambda function in Python have multiple arguments? If yes, how can you define and use\n",
    "them?\n",
    "\n",
    "A lambda function can take any number of arguments, but can only have one expression.\n",
    "\n",
    "numbers1 = [2, 4, 5, 6, 3]\n",
    "numbers2 = [1, 3, 2, 2, 4]\n",
    "\n",
    "\n",
    "add_fun = lambda x, y: x*y\n",
    "\n",
    "\n",
    "add_result = list(map(add_fun, numbers1, numbers2))\n",
    "print(add_result)\n",
    "\"\"\""
   ]
  },
  {
   "cell_type": "code",
   "execution_count": 3,
   "id": "60d6686e",
   "metadata": {},
   "outputs": [
    {
     "data": {
      "text/plain": [
       "4"
      ]
     },
     "execution_count": 3,
     "metadata": {},
     "output_type": "execute_result"
    }
   ],
   "source": [
    "\"\"\"\n",
    "3. How are lambda functions typically used in Python? Provide an example use case.\n",
    "\n",
    "Lambda functions are generally single line expressoins and are generally used in quickly getting the job completed rather thanformally naming the function\n",
    "\n",
    "square=lambda x: x**2\n",
    "square(2)\n",
    "\"\"\""
   ]
  },
  {
   "cell_type": "code",
   "execution_count": null,
   "id": "4b9a0e54",
   "metadata": {},
   "outputs": [],
   "source": [
    "\"\"\"\n",
    "4. What are the advantages and limitations of lambda functions compared to regular functions in\n",
    "Python?\n",
    "\n",
    "Lambda functions are syntactically restricted to return a single expression. You can use them as an anonymous function inside other functions. The lambda functions do not need a return statement, they always return a single expression.\n",
    "The best advantage of using the lambda function is that it can be used in place of any regular function that evaluates a single expression and returns a value. But, if we want our function to change a global variable, read from a file, or evaluate more than one expression, it will not work as a lambda function.\n",
    "\n",
    "\"\"\""
   ]
  },
  {
   "cell_type": "code",
   "execution_count": 1,
   "id": "ccb4441b",
   "metadata": {},
   "outputs": [
    {
     "name": "stdout",
     "output_type": "stream",
     "text": [
      "[1, 8, 27, 64, 125]\n"
     ]
    }
   ],
   "source": [
    "\"\"\"\n",
    "5. Are lambda functions in Python able to access variables defined outside of their own scope?\n",
    "Explain with an example.\n",
    "\n",
    "Lambda functions have their own local namespace and cannot access variables other than those in their parameter list and those in the global namespace.\n",
    "\n",
    "But Lambda functions can use map keyword and can access global variables\n",
    "\n",
    "\n",
    "a = [1,2,3,4,5]\n",
    "\n",
    "cube = lambda x : x ** 3\n",
    "\n",
    "print ( list (map (cube ,a) ) ) \n",
    "\"\"\"\n",
    "\n"
   ]
  },
  {
   "cell_type": "code",
   "execution_count": 4,
   "id": "4c6760cc",
   "metadata": {},
   "outputs": [
    {
     "data": {
      "text/plain": [
       "16"
      ]
     },
     "execution_count": 4,
     "metadata": {},
     "output_type": "execute_result"
    }
   ],
   "source": [
    "\"\"\"\n",
    "6. Write a lambda function to calculate the square of a given number.\n",
    "\n",
    "\n",
    "square=lambda x: x**2\n",
    "square(4)\n",
    "\n",
    "\"\"\""
   ]
  },
  {
   "cell_type": "code",
   "execution_count": 14,
   "id": "11354085",
   "metadata": {},
   "outputs": [
    {
     "name": "stdout",
     "output_type": "stream",
     "text": [
      "97\n"
     ]
    }
   ],
   "source": [
    "\"\"\"\n",
    "7. Create a lambda function to find the maximum value in a list of integers.\n",
    "\n",
    "f = lambda l: l[0] if len(l) == 1 else l[0] if l[0] > f(l[1:]) else f(l[1:])\n",
    "list = [19, 7, 17, 97, 5]\n",
    "maximum = f(list)\n",
    "print(maximum)\n",
    "\"\"\""
   ]
  },
  {
   "cell_type": "code",
   "execution_count": 13,
   "id": "c4c12230",
   "metadata": {},
   "outputs": [
    {
     "name": "stdout",
     "output_type": "stream",
     "text": [
      "[2, 4]\n"
     ]
    }
   ],
   "source": [
    "\"\"\"\n",
    "8. Implement a lambda function to filter out all the even numbers from a list of integers.\n",
    "\n",
    "a = [1,2,3,4,5]\n",
    "\n",
    "even = lambda x : True if x % 2 == 0 else False\n",
    "\n",
    "print (list(filter (even,a)))\n",
    "\n",
    "\"\"\"\n"
   ]
  },
  {
   "cell_type": "code",
   "execution_count": 22,
   "id": "ee3dd96a",
   "metadata": {},
   "outputs": [
    {
     "name": "stdout",
     "output_type": "stream",
     "text": [
      "['Robin', 'Sachin', 'Mukunda', 'Rahul Dravid']\n"
     ]
    }
   ],
   "source": [
    "\"\"\"\n",
    "9. Write a lambda function to sort a list of strings in ascending order based on the length of each\n",
    "string.\n",
    "\n",
    "\n",
    "a=[\"Mukunda\",\"Sachin\",\"Rahul Dravid\",\"Robin\"]\n",
    "b= sorted(a, key=lambda x: len(x))\n",
    "print(b)\n",
    "\n",
    "\"\"\""
   ]
  },
  {
   "cell_type": "code",
   "execution_count": 1,
   "id": "35e20123",
   "metadata": {},
   "outputs": [
    {
     "name": "stdout",
     "output_type": "stream",
     "text": [
      "no common elements\n",
      "{5}\n"
     ]
    }
   ],
   "source": [
    "\"\"\"\n",
    "10. Create a lambda function that takes two lists as input and returns a new list containing the\n",
    "common elements between the two lists.\n",
    "\n",
    "def common_member(a, b):   \n",
    "    a_set = set(a)\n",
    "    b_set = set(b)\n",
    "     \n",
    "    # check length\n",
    "    if len(a_set.intersection(b_set)) > 0:\n",
    "        return(a_set.intersection(b_set)) \n",
    "    else:\n",
    "        return(\"no common elements\")\n",
    "     \n",
    "\n",
    "a =[1, 2, 3, 4, 5]\n",
    "b =[6, 7, 8, 9]\n",
    "print(common_member(a, b))\n",
    "\n",
    "a = [1, 2, 3, 4, 5]\n",
    "b = [5, 6, 7, 8, 9]\n",
    "print(common_member(a, b))\n",
    " \n",
    "\"\"\""
   ]
  },
  {
   "cell_type": "code",
   "execution_count": 8,
   "id": "4e35a9cd",
   "metadata": {},
   "outputs": [
    {
     "name": "stdout",
     "output_type": "stream",
     "text": [
      "Enter the number of your choice = 5\n",
      "The factorial of 5 is 120\n"
     ]
    }
   ],
   "source": [
    "\"\"\"\n",
    "11. Write a recursive function to calculate the factorial of a given positive integer.\n",
    "\n",
    "\n",
    "def recur_factorial(n):\n",
    "   if n == 1:\n",
    "       return n\n",
    "   else:\n",
    "       return n*recur_factorial(n-1)\n",
    "num = int(input(\"Enter the number of your choice = \"))\n",
    "if num < 0:\n",
    "   print(\"Sorry, factorial does not exist for negative numbers\")\n",
    "elif num == 0:\n",
    "   print(\"The factorial of 0 is 1\")\n",
    "else:\n",
    "   print(\"The factorial of\", num, \"is\", recur_factorial(num))\n",
    "\"\"\""
   ]
  },
  {
   "cell_type": "code",
   "execution_count": 7,
   "id": "85557ee2",
   "metadata": {},
   "outputs": [
    {
     "name": "stdout",
     "output_type": "stream",
     "text": [
      "[0, 1, 1, 2, 3]\n"
     ]
    }
   ],
   "source": [
    "\"\"\"12. Implement a recursive function to compute the nth Fibonacci number.\n",
    "\n",
    "def rec_fibo(n):\n",
    "    if n <= 0:\n",
    "        return[]\n",
    "    elif n == 1:\n",
    "        return[0]\n",
    "    elif n == 2:\n",
    "        return[0,1]\n",
    "    else:\n",
    "        fib_series = rec_fibo(n-1)\n",
    "        fib_series.append(fib_series[-1] + fib_series[-2])\n",
    "        return fib_series\n",
    "print(rec_fibo(5))\n",
    "\"\"\""
   ]
  },
  {
   "cell_type": "code",
   "execution_count": 4,
   "id": "b9ab00d4",
   "metadata": {},
   "outputs": [
    {
     "name": "stdout",
     "output_type": "stream",
     "text": [
      "42\n"
     ]
    }
   ],
   "source": [
    "\"\"\"13. Create a recursive function to find the sum of all the elements in a given list.\n",
    "print(sumOfList(myList, 0))\n",
    "\n",
    "\n",
    "myList=[23,4,2,6,7]\n",
    " \n",
    "def sumOfList(myList, nSum):\n",
    "    if len(myList):\n",
    "        return sumOfList(myList[1:], nSum+myList[0])\n",
    "    else:\n",
    "        return nSum\n",
    "         \n",
    "print(sumOfList(myList, 0))\n",
    "\n",
    "\"\"\""
   ]
  },
  {
   "cell_type": "code",
   "execution_count": 11,
   "id": "4855d086",
   "metadata": {},
   "outputs": [
    {
     "name": "stdout",
     "output_type": "stream",
     "text": [
      "Enter string:malayalam\n",
      "String is a palindrome!\n"
     ]
    }
   ],
   "source": [
    "\"\"\"\n",
    "14. Write a recursive function to determine whether a given string is a palindrome.\n",
    "\n",
    "def is_palindrome(s):\n",
    "    if len(s) < 1:\n",
    "        return True\n",
    "    else:\n",
    "        if s[0] == s[-1]:\n",
    "            return is_palindrome(s[1:-1])\n",
    "        else:\n",
    "            return False\n",
    "a=str(input(\"Enter string:\"))\n",
    "if(is_palindrome(a)==True):\n",
    "    print(\"String is a palindrome!\")\n",
    "else:\n",
    "    print(\"String isn't a palindrome!\")\n",
    "\"\"\""
   ]
  },
  {
   "cell_type": "code",
   "execution_count": 13,
   "id": "3b9fdf82",
   "metadata": {},
   "outputs": [
    {
     "name": "stdout",
     "output_type": "stream",
     "text": [
      "Enter a value for x: 46\n",
      "Enter a value for y: 12\n",
      "2\n"
     ]
    }
   ],
   "source": [
    "\"\"\"15. Implement a recursive function to find the greatest common divisor (GCD) of two positive integers.\n",
    "def gcd(x , y):\n",
    "    if y == 0:\n",
    "        return x\n",
    "    else:\n",
    "        return gcd(y, x % y)\n",
    "\n",
    "num_one = int(input('Enter a value for x: '))\n",
    "num_two = int(input('Enter a value for y: '))\n",
    "if num_two == 0:\n",
    "    print(num_one)\n",
    "else:\n",
    "    print(gcd(num_one, num_two))\n",
    "\"\"\""
   ]
  }
 ],
 "metadata": {
  "kernelspec": {
   "display_name": "Python 3 (ipykernel)",
   "language": "python",
   "name": "python3"
  },
  "language_info": {
   "codemirror_mode": {
    "name": "ipython",
    "version": 3
   },
   "file_extension": ".py",
   "mimetype": "text/x-python",
   "name": "python",
   "nbconvert_exporter": "python",
   "pygments_lexer": "ipython3",
   "version": "3.10.9"
  }
 },
 "nbformat": 4,
 "nbformat_minor": 5
}
