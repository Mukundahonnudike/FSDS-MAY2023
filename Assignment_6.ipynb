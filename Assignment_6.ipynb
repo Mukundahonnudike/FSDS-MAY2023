{
 "cells": [
  {
   "cell_type": "code",
   "execution_count": 5,
   "id": "c95c192c",
   "metadata": {},
   "outputs": [
    {
     "name": "stdout",
     "output_type": "stream",
     "text": [
      "['False', 'None', 'True', 'and', 'as', 'assert', 'async', 'await', 'break', 'class', 'continue', 'def', 'del', 'elif', 'else', 'except', 'finally', 'for', 'from', 'global', 'if', 'import', 'in', 'is', 'lambda', 'nonlocal', 'not', 'or', 'pass', 'raise', 'return', 'try', 'while', 'with', 'yield']\n"
     ]
    }
   ],
   "source": [
    "# 1. What are keywords in python? Using the keyword library, print all the python keywords.\n",
    "\"\"\"\n",
    "Keywords are special words that are inbuilt words that are understood by python interpreter  and they cannot be used as identifiers\n",
    "\"\"\"\n",
    "\n",
    "import keyword\n",
    "print(keyword.kwlist)"
   ]
  },
  {
   "cell_type": "code",
   "execution_count": null,
   "id": "72ce10eb",
   "metadata": {},
   "outputs": [],
   "source": [
    "# 2. What are the rules to create variables in python?\n",
    "\"\"\"\n",
    "The rules for creating variables in python are\n",
    "1. It can have alphabets, dgits and underscore\n",
    "2. The 1st character cannot be digit\n",
    "3. The lenght of variable name is not limited\n",
    "4. It cannot have same name as keyword.\n",
    "\n",
    "\"\"\""
   ]
  },
  {
   "cell_type": "code",
   "execution_count": null,
   "id": "d885c696",
   "metadata": {},
   "outputs": [],
   "source": [
    "#3. What are the standards and conventions followed for the nomenclature of variables in python to improve code readability and maintainability?\n",
    "\n",
    "\"\"\"\n",
    "Good Programing practices dictate that identifier names should be relevant and readable to user so that he can relate what identifer is referring to \n",
    "1. Variable name and function name  should be in lower case seperated by underscore for ex variable_name()\n",
    "2. Class name and Exception name should also be in lower case but the 1st letter should be in capital for ex Classname()\n",
    "3. Constant name should be in upper case with underscore seperating words for ex CONSTANT_NAME\n",
    "4. All other identifiers like package name, module name, variable name, function paramater name should follow the convention of variable name\n",
    "\n",
    "\"\"\"\n"
   ]
  },
  {
   "cell_type": "code",
   "execution_count": 6,
   "id": "10d2ed77",
   "metadata": {},
   "outputs": [
    {
     "ename": "SyntaxError",
     "evalue": "cannot assign to False (3841401106.py, line 3)",
     "output_type": "error",
     "traceback": [
      "\u001b[1;36m  Cell \u001b[1;32mIn[6], line 3\u001b[1;36m\u001b[0m\n\u001b[1;33m    False = [1,2]\u001b[0m\n\u001b[1;37m    ^\u001b[0m\n\u001b[1;31mSyntaxError\u001b[0m\u001b[1;31m:\u001b[0m cannot assign to False\n"
     ]
    }
   ],
   "source": [
    "# 4. What will happen if a keyword is used as a variable name?\n",
    "\n",
    "\"\"\"\n",
    "We cannot assign False as identifier ot variable name, if we do so we will get syntax error, cannot assign to False\n",
    "\n",
    "\"\"\"\n",
    "\n",
    "False = [1,2]\n",
    "print(False)"
   ]
  },
  {
   "cell_type": "code",
   "execution_count": null,
   "id": "877e47d7",
   "metadata": {},
   "outputs": [],
   "source": [
    "#5. For what purpose def keyword is used?\n",
    "\n",
    "\"\"\"\n",
    "def() keyword is used to create user defined functions and in-built functions\n",
    "\n",
    "for Ex: def fibonacci_series()\n",
    "\n",
    "\"\"\""
   ]
  },
  {
   "cell_type": "code",
   "execution_count": 10,
   "id": "2fcbbb62",
   "metadata": {},
   "outputs": [
    {
     "name": "stdout",
     "output_type": "stream",
     "text": [
      "hello world\n"
     ]
    }
   ],
   "source": [
    "# 6. What is the operation of this special character ‘\\’?\n",
    "\n",
    "\"\"\"\n",
    "Backslash (\\) is a special operator which is called as escape operator, suppose  a code has multiple lines, it can be comboned into single line by using \\ at the end of every line\n",
    "\"\"\"\n",
    "\n",
    "print(\"hello\\\n",
    " world\")"
   ]
  },
  {
   "cell_type": "code",
   "execution_count": null,
   "id": "b6f44ac2",
   "metadata": {},
   "outputs": [],
   "source": [
    "# 7. Give an example of the following conditions:\n",
    "#(i) Homogeneous list\n",
    "L = [\"Apple\",\"Banana\",\"Grapes\"]\n",
    "#(ii) Heterogeneous set\n",
    "s = (2, 3.14, \"Apple\")\n",
    "#(iii) Homogeneous tuple\n",
    "T = (1,2,3)"
   ]
  },
  {
   "cell_type": "code",
   "execution_count": null,
   "id": "f799218a",
   "metadata": {},
   "outputs": [],
   "source": [
    "# 8. Explain the mutable and immutable data types with proper explanation & examples.\n",
    "\n",
    "\"\"\"\n",
    "Mutable Data Types are: \n",
    "\n",
    "Lists:A list in python is ordered sequence of elements which can be dynamically altered, dynamically altered means each element of the list can be changed and list itself can be altered.\n",
    "\n",
    "L = [1,2,3,4,5]\n",
    "L.insert(2,6)\n",
    "print(L)\n",
    "\n",
    "In the above example we can observe that initally at index (2) of list L we have number 2, but after l.insert(2,6), we have changed the index 2 element to 6.\n",
    "\n",
    "Dictionaries: A dictionary is a collection of key value pairs subject to constraint that each key value should be unique.\n",
    "\n",
    "\n",
    "d1 = {\"name\":\"Mukunda\", \"Age\":33, \"City\": \"Bangalore\", \"Roll num\": \"AB1234\"}\n",
    "print(d1)\n",
    "d1[\"name\"] = \"Vinay\"\n",
    "print(d1)\n",
    "\n",
    "In the above example Mukunda will be replaced by Vinay, but it will not create a new pair with \"name\":\"Mukunda\" and \"name\":\"Vinay\".\n",
    "\n",
    "Sets: A set is collection of unordered and unique elements, unordered means the values inside set do not have index and uniqe means dulpicate values are not considered.\n",
    "\n",
    "S = set(range(1,6))\n",
    "S.add(9)\n",
    "print(S)\n",
    "\n",
    "In the above example Set is created with elements 1 to 5, so we can just add an element to set by using add function, after using add the set will be including elements {1,2,3,4,5,9}\n",
    "\n",
    "Immutable Data Types are\n",
    "\n",
    "Tuples: Tuples in python are ordered sequence of elements but they are immutable.\n",
    "\n",
    "T1 = (5,[],3)\n",
    "T1[1].append(9)\n",
    "T2 = T1\n",
    "print(T1)\n",
    "print(T2)\n",
    "\n",
    "In the above example we have declare list as a member inside tuple before changing the contents of list.\n",
    "\n",
    "Strings: A string in python is immutable sequence of characters\n",
    "\n",
    "L = str(\"Delhi-Bombay-Bangalore-Bombay_Delhi\")\n",
    "L.replace(\"Bombay\", \"Mumbai\",1)\n",
    "\n",
    "In the above example we cannot insert Mumbai, but we need to replace Bombay by specifing the count, since we have given count as 1 the 1st place in string where Bombay is identified is converted to Mumbai and the rest of Bombay will be as is.\n",
    "\"\"\""
   ]
  },
  {
   "cell_type": "code",
   "execution_count": 2,
   "id": "01a3949a",
   "metadata": {},
   "outputs": [
    {
     "name": "stdout",
     "output_type": "stream",
     "text": [
      "          * \n",
      "        * * * \n",
      "      * * * * * \n",
      "    * * * * * * * \n",
      "  * * * * * * * * * \n"
     ]
    }
   ],
   "source": [
    "# 9. Write a code to create the given structure using only for loop.\n",
    "\"\"\"\n",
    "     *\n",
    "    ***\n",
    "   *****\n",
    "  *******\n",
    " *********\n",
    "\"\"\"\n",
    "\n",
    "\n",
    "n=5\n",
    "for i in range(n):\n",
    "    for j in range(i,n):\n",
    "        print(' ', end = ' ')\n",
    "    for j in range(i):\n",
    "        print('*', end = ' ')\n",
    "    for j in range(i+1):\n",
    "        print('*', end = ' ')\n",
    "    print()\n",
    "    "
   ]
  },
  {
   "cell_type": "code",
   "execution_count": 1,
   "id": "17409d28",
   "metadata": {},
   "outputs": [
    {
     "name": "stdout",
     "output_type": "stream",
     "text": [
      "Enter the number of Rows = 5\n",
      "  | | | | | | | | | \n",
      "    | | | | | | | \n",
      "      | | | | | \n",
      "        | | | \n",
      "          | \n"
     ]
    }
   ],
   "source": [
    "# 10. Write a code to create the given structure using while loop.\n",
    "\"\"\"\n",
    " |||||||||\n",
    "  |||||||\n",
    "   |||||\n",
    "    |||\n",
    "     |\n",
    "\"\"\"\n",
    "\n",
    "rows = int(input(\"Enter the number of Rows = \"))\n",
    "\n",
    "i = rows\n",
    "while(i >= 1):\n",
    "    j = 0\n",
    "    while(j <= rows - i):\n",
    "        print(' ', end = ' ')\n",
    "        j = j + 1\n",
    "    k = 0\n",
    "    while(k < i):\n",
    "        print('|', end = ' ')\n",
    "        k = k + 1\n",
    "    while(j <= rows-1):\n",
    "        print('|', end = ' ')\n",
    "        j = j + 1\n",
    "    i = i - 1\n",
    "    print()\n"
   ]
  },
  {
   "cell_type": "code",
   "execution_count": null,
   "id": "cf784261",
   "metadata": {},
   "outputs": [],
   "source": []
  }
 ],
 "metadata": {
  "kernelspec": {
   "display_name": "Python 3 (ipykernel)",
   "language": "python",
   "name": "python3"
  },
  "language_info": {
   "codemirror_mode": {
    "name": "ipython",
    "version": 3
   },
   "file_extension": ".py",
   "mimetype": "text/x-python",
   "name": "python",
   "nbconvert_exporter": "python",
   "pygments_lexer": "ipython3",
   "version": "3.10.9"
  }
 },
 "nbformat": 4,
 "nbformat_minor": 5
}
