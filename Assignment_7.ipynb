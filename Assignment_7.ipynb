{
 "cells": [
  {
   "cell_type": "code",
   "execution_count": 24,
   "id": "6e1e57b9",
   "metadata": {},
   "outputs": [
    {
     "name": "stdout",
     "output_type": "stream",
     "text": [
      "Enter the 1st variable: 6\n",
      "Enter the 2nd variable: 2\n",
      "First Variable is 6 & Second Variable is 2\n",
      "Addition: 6 + 2 = 8\n",
      "Subtraction: 6 - 2 = 4\n",
      "Multiplication: 6 * 2 = 12\n",
      "Division: 6 / 2 = 3.0\n"
     ]
    }
   ],
   "source": [
    "\"\"\"\n",
    "1. Create two int type variables, apply addition, subtraction, division and multiplications\n",
    "and store the results in variables. Then print the data in the following format by calling the\n",
    "variables:\n",
    "First variable is __ & second variable is __.\n",
    "Addition: __ + __ = __\n",
    "Subtraction: __ - __ = __\n",
    "Multiplication: __ * __ = __\n",
    "Division: __ / __ = __\n",
    "\"\"\"\n",
    "\n",
    "N1 = int(input(\"Enter the 1st variable: \"))\n",
    "N2 = int(input(\"Enter the 2nd variable: \"))\n",
    "A = N1 + N2\n",
    "S = N1 - N2\n",
    "M = N1 * N2\n",
    "D = N1 / N2\n",
    "print(\"First Variable is {} & Second Variable is {}\". format(N1,N2))\n",
    "print(\"Addition: {} + {} = {}\".format(N1,N2,A))\n",
    "print(\"Subtraction: {} - {} = {}\".format(N1,N2,S))\n",
    "print(\"Multiplication: {} * {} = {}\".format(N1,N2,M))\n",
    "print(\"Division: {} / {} = {}\".format(N1,N2,D))"
   ]
  },
  {
   "cell_type": "code",
   "execution_count": 3,
   "id": "02e5fa72",
   "metadata": {},
   "outputs": [
    {
     "name": "stdout",
     "output_type": "stream",
     "text": [
      "3.0\n",
      "2\n",
      "4\n",
      "1\n"
     ]
    }
   ],
   "source": [
    "\"\"\"\n",
    "2. What is the difference between the following operators:\n",
    "(i) ‘/’ & ‘//’\n",
    "(ii) ‘**’ & ‘^’\n",
    "\n",
    "/ is the Basic Division operator\n",
    "// is Integer Division operator (this will output the auotient part of division)\n",
    "** is Power operator\n",
    "^ is Bitwise XOR operator\n",
    "\"\"\"\n",
    "a = 6 / 2 \n",
    "b = 7 // 3\n",
    "c = 2 ** 2\n",
    "d = 2 ^ 3\n",
    "print(a)\n",
    "print(b)\n",
    "print(c)\n",
    "print(d)"
   ]
  },
  {
   "cell_type": "code",
   "execution_count": null,
   "id": "f8a72c41",
   "metadata": {},
   "outputs": [],
   "source": [
    "\"\"\"\n",
    "3. List the logical operators.\n",
    "\n",
    "The Logical Operators in python are \n",
    "1> AND Operator: Returns if both statements are true\n",
    "2> OR Operator: Returns if any one statement is true\n",
    "3> NOT Operator: Returns flse if the starement is true and vise versa\n",
    "\n",
    "\"\"\""
   ]
  },
  {
   "cell_type": "code",
   "execution_count": 12,
   "id": "5e8a73a6",
   "metadata": {},
   "outputs": [
    {
     "data": {
      "text/plain": [
       "0"
      ]
     },
     "execution_count": 12,
     "metadata": {},
     "output_type": "execute_result"
    }
   ],
   "source": [
    "\"\"\"\n",
    "4. Explain right shift operator and left shift operator with examples.\n",
    "\n",
    "Right Shift Operator shifts the left operand bits towards right by the number mentioned in right operand (suppose 2 >> 3 is the left operand, 2 is converted to binary 1st and then right shift operator works by shifting 3 bits towards right)\n",
    "\n",
    "Left Shift Operator shifts the left operand bits towards left by the number mentioned in right operand (suppose 2 << 3 is the left operand, 2 is converted to binary 1st and then left shift operator works, by shifting 2 bits towards left)\n",
    "\"\"\"\n",
    "\n",
    "2 >> 3 # Right Shift Operator\n"
   ]
  },
  {
   "cell_type": "code",
   "execution_count": 13,
   "id": "c44be03a",
   "metadata": {},
   "outputs": [
    {
     "data": {
      "text/plain": [
       "16"
      ]
     },
     "execution_count": 13,
     "metadata": {},
     "output_type": "execute_result"
    }
   ],
   "source": [
    "2 << 3 #Left Shift Operator"
   ]
  },
  {
   "cell_type": "code",
   "execution_count": 28,
   "id": "32fed381",
   "metadata": {},
   "outputs": [
    {
     "name": "stdout",
     "output_type": "stream",
     "text": [
      "Number 10 exists\n"
     ]
    }
   ],
   "source": [
    "\"\"\"\n",
    "5. Create a list containing int type data of length 15. Then write a code to check if 10 is\n",
    "present in the list or not\n",
    "\"\"\"\n",
    "\n",
    "L = [1,2,3,4,5,6,7,8,9,10,11,12,13,14,15]\n",
    "for i in L:\n",
    "    if (i == 10):\n",
    "        print(\"Number 10 exists\")"
   ]
  }
 ],
 "metadata": {
  "kernelspec": {
   "display_name": "Python 3 (ipykernel)",
   "language": "python",
   "name": "python3"
  },
  "language_info": {
   "codemirror_mode": {
    "name": "ipython",
    "version": 3
   },
   "file_extension": ".py",
   "mimetype": "text/x-python",
   "name": "python",
   "nbconvert_exporter": "python",
   "pygments_lexer": "ipython3",
   "version": "3.10.9"
  }
 },
 "nbformat": 4,
 "nbformat_minor": 5
}
