{
 "cells": [
  {
   "cell_type": "code",
   "execution_count": 1,
   "id": "c32438bd",
   "metadata": {},
   "outputs": [
    {
     "data": {
      "text/plain": [
       "\"\\n1. In the below elements which of them are values or an expression? eg:- values can be integer or string and expressions will be mathematical operators.\\n*  = Expression\\n'hello' = Values\\n-87.8 = Values\\n- = Expression \\n/ = Expression\\n+ = Expression\\n6 = Value\\n\""
      ]
     },
     "execution_count": 1,
     "metadata": {},
     "output_type": "execute_result"
    }
   ],
   "source": [
    "\"\"\"\n",
    "1. In the below elements which of them are values or an expression? eg:- values can be integer or string and expressions will be mathematical operators.\n",
    "*  = Expression\n",
    "'hello' = Values\n",
    "-87.8 = Values\n",
    "- = Expression \n",
    "/ = Expression\n",
    "+ = Expression\n",
    "6 = Value\n",
    "\"\"\""
   ]
  },
  {
   "cell_type": "code",
   "execution_count": 2,
   "id": "756d2abf",
   "metadata": {
    "scrolled": true
   },
   "outputs": [
    {
     "data": {
      "text/plain": [
       "'\"\\n2. What is the difference between string and variable?\\n\\nString: String is a data type which stores both numeric and non-umeric values.\\n\\nVariable: Variables are the entity used to hold the value of the data type used.\\n'"
      ]
     },
     "execution_count": 2,
     "metadata": {},
     "output_type": "execute_result"
    }
   ],
   "source": [
    "\"\"\"\"\n",
    "2. What is the difference between string and variable?\n",
    "\n",
    "String: String is a data type which stores both numeric and non-umeric values.\n",
    "\n",
    "Variable: Variables are the entity used to hold the value of the data type used.\n",
    "\"\"\""
   ]
  },
  {
   "cell_type": "code",
   "execution_count": 3,
   "id": "bfd4af5f",
   "metadata": {},
   "outputs": [
    {
     "data": {
      "text/plain": [
       "'\"\\n3. Describe three different data types.\\nIntegers (int): Integer data type represent both posiive and negative numbers and they do not contain fractional part or decimal part foe ex x = 2.\\n\\nReal Numbers or Float (float): Float data tye represent both positive numbers, negative numbers and also allow decimal part for ex x=123.12\\n\\nComplex Numbers (complex) : Complex number data type are those which allow complex numbers which have real and imaginary part\\n'"
      ]
     },
     "execution_count": 3,
     "metadata": {},
     "output_type": "execute_result"
    }
   ],
   "source": [
    "\"\"\"\"\n",
    "3. Describe three different data types.\n",
    "Integers (int): Integer data type represent both posiive and negative numbers and they do not contain fractional part or decimal part foe ex x = 2.\n",
    "\n",
    "Real Numbers or Float (float): Float data tye represent both positive numbers, negative numbers and also allow decimal part for ex x=123.12\n",
    "\n",
    "Complex Numbers (complex) : Complex number data type are those which allow complex numbers which have real and imaginary part\n",
    "\"\"\""
   ]
  },
  {
   "cell_type": "code",
   "execution_count": 4,
   "id": "516c5c1c",
   "metadata": {},
   "outputs": [
    {
     "data": {
      "text/plain": [
       "'\"\\n4. What is an expression made up of? What do all expressions do?\\n\\nExpression is made up of operators and operands, operands are characters that have to be found while operators are used to enforce rules pertaining to the occurances of operands.\\n\\nexpressions are used to do following things\\n-Checking whether a string conforms to a particular pattern or not.\\n-Checking whether a string contains a part number that matches a particular pattern.\\n-Counting nu,ber of occurances of substrings that match a paticular pattern.\\n-Locating the substrings that match a particular pattern within a string.\\n-Substituting substrings that match a particular pattern with a replacement string.\\n-Substituting substrings that match a particular pattern with a replacement string that possibly refuses the content found in order to reorganise the string.\\n'"
      ]
     },
     "execution_count": 4,
     "metadata": {},
     "output_type": "execute_result"
    }
   ],
   "source": [
    "\"\"\"\"\n",
    "4. What is an expression made up of? What do all expressions do?\n",
    "\n",
    "Expression is made up of operators and operands, operands are characters that have to be found while operators are used to enforce rules pertaining to the occurances of operands.\n",
    "\n",
    "expressions are used to do following things\n",
    "-Checking whether a string conforms to a particular pattern or not.\n",
    "-Checking whether a string contains a part number that matches a particular pattern.\n",
    "-Counting number of occurances of substrings that match a paticular pattern.\n",
    "-Locating the substrings that match a particular pattern within a string.\n",
    "-Substituting substrings that match a particular pattern with a replacement string.\n",
    "-Substituting substrings that match a particular pattern with a replacement string that possibly refuses the content found in order to reorganise the string.\n",
    "\"\"\""
   ]
  },
  {
   "cell_type": "code",
   "execution_count": 5,
   "id": "57b3874f",
   "metadata": {},
   "outputs": [
    {
     "data": {
      "text/plain": [
       "'\\n5. This assignment statements, like spam = 10. What is the difference between an expression and a statement?\\n\\n'"
      ]
     },
     "execution_count": 5,
     "metadata": {},
     "output_type": "execute_result"
    }
   ],
   "source": [
    "\"\"\"\n",
    "5. This assignment statements, like spam = 10. What is the difference between an expression and a statement?\n",
    "\n",
    "A statement in Python is used for creating variables or for displaying values. The expression in Python produces some value or result after being interpreted by the Python interpreter. A statement in Python is not evaluated for some results. An expression in Python is evaluated for some results.\n",
    "\n",
    "\"\"\""
   ]
  },
  {
   "cell_type": "code",
   "execution_count": 6,
   "id": "d9f048d5",
   "metadata": {},
   "outputs": [
    {
     "name": "stdout",
     "output_type": "stream",
     "text": [
      "22\n"
     ]
    }
   ],
   "source": [
    "\"\"\"\n",
    "6. After running the following code, what does the variable bacon contain?\n",
    "bacon = 22\n",
    "bacon + 1\n",
    "\n",
    "Bacon returns the value of 22\n",
    "\"\"\"\n",
    "\n",
    "bacon = 22\n",
    "bacon + 1\n",
    "print(bacon)"
   ]
  },
  {
   "cell_type": "code",
   "execution_count": 7,
   "id": "a37839df",
   "metadata": {},
   "outputs": [
    {
     "name": "stdout",
     "output_type": "stream",
     "text": [
      "spamspamspam\n",
      "spamspamspam\n"
     ]
    }
   ],
   "source": [
    "\"\"\"\n",
    "7. What should the values of the following two terms be?\n",
    "'spam' + 'spamspam'\n",
    "'spam' * 3\n",
    "\n",
    "Output is\n",
    "'spam' + 'spamspam' = spamspamspam\n",
    "\n",
    "'spam' * 3 = spamspamspam\n",
    "\"\"\"\n",
    "\n",
    "print('spam' + 'spamspam')\n",
    "print('spam' * 3)"
   ]
  },
  {
   "cell_type": "code",
   "execution_count": 8,
   "id": "c532666c",
   "metadata": {},
   "outputs": [
    {
     "data": {
      "text/plain": [
       "'\\n8. Why is eggs a valid variable name while 100 is invalid?\\n\\nVariable name or identifier has a rule in python that it cannot start from numerical value\\n'"
      ]
     },
     "execution_count": 8,
     "metadata": {},
     "output_type": "execute_result"
    }
   ],
   "source": [
    "\"\"\"\n",
    "8. Why is eggs a valid variable name while 100 is invalid?\n",
    "\n",
    "Variable name or identifier has a rule in python that it cannot start from numerical value\n",
    "\"\"\""
   ]
  },
  {
   "cell_type": "code",
   "execution_count": 1,
   "id": "f1a823d9",
   "metadata": {},
   "outputs": [
    {
     "data": {
      "text/plain": [
       "'\\n9. What three functions can be used to get the integer, floating-point number, or string version of a value?\\nint()\\nfloat()\\nstr()\\n'"
      ]
     },
     "execution_count": 1,
     "metadata": {},
     "output_type": "execute_result"
    }
   ],
   "source": [
    "\"\"\"\n",
    "9. What three functions can be used to get the integer, floating-point number, or string version of a value?\n",
    "int()\n",
    "float()\n",
    "str()\n",
    "\"\"\""
   ]
  },
  {
   "cell_type": "code",
   "execution_count": 10,
   "id": "8cb2e77d",
   "metadata": {},
   "outputs": [
    {
     "ename": "TypeError",
     "evalue": "can only concatenate str (not \"int\") to str",
     "output_type": "error",
     "traceback": [
      "\u001b[1;31m---------------------------------------------------------------------------\u001b[0m",
      "\u001b[1;31mTypeError\u001b[0m                                 Traceback (most recent call last)",
      "Cell \u001b[1;32mIn[10], line 5\u001b[0m\n\u001b[0;32m      1\u001b[0m \u001b[38;5;124;03m\"\"\"\u001b[39;00m\n\u001b[0;32m      2\u001b[0m \u001b[38;5;124;03m10. Why does this expression cause an error? How can you fix it?\u001b[39;00m\n\u001b[0;32m      3\u001b[0m \u001b[38;5;124;03m'I have eaten ' + 99 + ' burritos.'\u001b[39;00m\n\u001b[0;32m      4\u001b[0m \u001b[38;5;124;03m\"\"\"\u001b[39;00m\n\u001b[1;32m----> 5\u001b[0m \u001b[38;5;28mprint\u001b[39m(\u001b[38;5;124;43m'\u001b[39;49m\u001b[38;5;124;43mI have eaten \u001b[39;49m\u001b[38;5;124;43m'\u001b[39;49m\u001b[43m \u001b[49m\u001b[38;5;241;43m+\u001b[39;49m\u001b[43m \u001b[49m\u001b[38;5;241;43m99\u001b[39;49m \u001b[38;5;241m+\u001b[39m \u001b[38;5;124m'\u001b[39m\u001b[38;5;124m burritos.\u001b[39m\u001b[38;5;124m'\u001b[39m)\n",
      "\u001b[1;31mTypeError\u001b[0m: can only concatenate str (not \"int\") to str"
     ]
    }
   ],
   "source": [
    "\"\"\"\n",
    "10. Why does this expression cause an error? How can you fix it?\n",
    "'I have eaten ' + 99 + ' burritos.'\n",
    "\n",
    "This expression causes type error\n",
    "\"\"\"\n",
    "print('I have eaten ' + 99 + ' burritos.')"
   ]
  },
  {
   "cell_type": "code",
   "execution_count": 2,
   "id": "12c26729",
   "metadata": {},
   "outputs": [
    {
     "name": "stdout",
     "output_type": "stream",
     "text": [
      "I have eaten 99 burritos.\n"
     ]
    }
   ],
   "source": [
    "\"\"\"\n",
    "10. Why does this expression cause an error? How can you fix it?\n",
    "'I have eaten ' + 99 + ' burritos.'\n",
    "\n",
    "This expression causes type error\n",
    "\"\"\"\n",
    "print('I have eaten ' + '99' + ' burritos.')"
   ]
  },
  {
   "cell_type": "code",
   "execution_count": null,
   "id": "a8fa909e",
   "metadata": {},
   "outputs": [],
   "source": []
  }
 ],
 "metadata": {
  "kernelspec": {
   "display_name": "Python 3 (ipykernel)",
   "language": "python",
   "name": "python3"
  },
  "language_info": {
   "codemirror_mode": {
    "name": "ipython",
    "version": 3
   },
   "file_extension": ".py",
   "mimetype": "text/x-python",
   "name": "python",
   "nbconvert_exporter": "python",
   "pygments_lexer": "ipython3",
   "version": "3.10.9"
  }
 },
 "nbformat": 4,
 "nbformat_minor": 5
}
