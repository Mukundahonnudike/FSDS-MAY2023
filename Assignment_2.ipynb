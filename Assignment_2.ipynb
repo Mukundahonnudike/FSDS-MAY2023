{
 "cells": [
  {
   "cell_type": "code",
   "execution_count": 1,
   "id": "82b13488",
   "metadata": {},
   "outputs": [
    {
     "data": {
      "text/plain": [
       "'\\n1.What are the two values of the Boolean data type? How do you write them?\\n\\nThe two values of Boolean data type are TRUE anf FALSE\\n'"
      ]
     },
     "execution_count": 1,
     "metadata": {},
     "output_type": "execute_result"
    }
   ],
   "source": [
    "\"\"\"\n",
    "1.What are the two values of the Boolean data type? How do you write them?\n",
    "\n",
    "The two values of Boolean data type are TRUE anf FALSE\n",
    "\"\"\""
   ]
  },
  {
   "cell_type": "code",
   "execution_count": 2,
   "id": "efa6c8fd",
   "metadata": {},
   "outputs": [
    {
     "data": {
      "text/plain": [
       "'\\n2. What are the three different types of Boolean operators?\\n\\nThe three different types of boolean operators are AND OR NOT\\n'"
      ]
     },
     "execution_count": 2,
     "metadata": {},
     "output_type": "execute_result"
    }
   ],
   "source": [
    "\"\"\"\n",
    "2. What are the three different types of Boolean operators?\n",
    "\n",
    "The three different types of boolean operators are \n",
    "AND\n",
    "OR\n",
    "NOT\n",
    "\"\"\""
   ]
  },
  {
   "cell_type": "code",
   "execution_count": 4,
   "id": "94010e19",
   "metadata": {},
   "outputs": [
    {
     "data": {
      "text/plain": [
       "\"\\n3. Make a list of each Boolean operator's truth tables (i.e. every possible combination of Boolean values for the operator and what it evaluate ).\\n\\nAND Truth Table\\n\\nTruth AND Truth = Truth\\n\\nOR Truth Table\\nNOT truth Table\\n\""
      ]
     },
     "execution_count": 4,
     "metadata": {},
     "output_type": "execute_result"
    }
   ],
   "source": [
    "\"\"\"\n",
    "3. Make a list of each Boolean operator's truth tables (i.e. every possible combination of Boolean values for the operator and what it evaluate ).\n",
    "\n",
    "AND Truth Table\n",
    "\n",
    "Truth AND Truth = True\n",
    "Truth AND False = False\n",
    "False AND Truth = False\n",
    "False AND False = False\n",
    "\n",
    "OR Truth Table\n",
    "\n",
    "Truth OR Truth = Truth\n",
    "Truth OR False = Truth\n",
    "False OR Truth = Truth\n",
    "False OR False = False\n",
    "\n",
    "NOT truth Table\n",
    "\n",
    "Not True = False\n",
    "Not False = Truth\n",
    "\"\"\""
   ]
  },
  {
   "cell_type": "code",
   "execution_count": 4,
   "id": "14cbe94f",
   "metadata": {},
   "outputs": [
    {
     "data": {
      "text/plain": [
       "'\\n4. What are the values of the following expressions?\\n(5 > 4) and (3 == 5)\\nnot (5 > 4)\\n(5 > 4) or (3 == 5)\\nnot ((5 > 4) or (3 == 5))\\n(True and True) and (True == False)\\n(not False) or (not True)\\n'"
      ]
     },
     "execution_count": 4,
     "metadata": {},
     "output_type": "execute_result"
    }
   ],
   "source": [
    "\"\"\"\n",
    "4. What are the values of the following expressions?\n",
    "(5 > 4) and (3 == 5) is False\n",
    "not (5 > 4) is False\n",
    "(5 > 4) or (3 == 5) is True\n",
    "not ((5 > 4) or (3 == 5)) is False\n",
    "(True and True) and (True == False) is False\n",
    "(not False) or (not True) is True\n",
    "\"\"\""
   ]
  },
  {
   "cell_type": "code",
   "execution_count": 1,
   "id": "e74122df",
   "metadata": {},
   "outputs": [
    {
     "data": {
      "text/plain": [
       "False"
      ]
     },
     "execution_count": 1,
     "metadata": {},
     "output_type": "execute_result"
    }
   ],
   "source": [
    "(5 > 4) and (3 == 5)"
   ]
  },
  {
   "cell_type": "code",
   "execution_count": 2,
   "id": "db66dcde",
   "metadata": {},
   "outputs": [
    {
     "data": {
      "text/plain": [
       "False"
      ]
     },
     "execution_count": 2,
     "metadata": {},
     "output_type": "execute_result"
    }
   ],
   "source": [
    "not (5 > 4)"
   ]
  },
  {
   "cell_type": "code",
   "execution_count": 3,
   "id": "871a566c",
   "metadata": {},
   "outputs": [
    {
     "data": {
      "text/plain": [
       "True"
      ]
     },
     "execution_count": 3,
     "metadata": {},
     "output_type": "execute_result"
    }
   ],
   "source": [
    "(5 > 4) or (3 == 5)"
   ]
  },
  {
   "cell_type": "code",
   "execution_count": 4,
   "id": "b0285666",
   "metadata": {},
   "outputs": [
    {
     "data": {
      "text/plain": [
       "False"
      ]
     },
     "execution_count": 4,
     "metadata": {},
     "output_type": "execute_result"
    }
   ],
   "source": [
    "not ((5 > 4) or (3 == 5))"
   ]
  },
  {
   "cell_type": "code",
   "execution_count": 5,
   "id": "91505351",
   "metadata": {},
   "outputs": [
    {
     "data": {
      "text/plain": [
       "False"
      ]
     },
     "execution_count": 5,
     "metadata": {},
     "output_type": "execute_result"
    }
   ],
   "source": [
    "(True and True) and (True == False)"
   ]
  },
  {
   "cell_type": "code",
   "execution_count": 6,
   "id": "43184842",
   "metadata": {},
   "outputs": [
    {
     "data": {
      "text/plain": [
       "True"
      ]
     },
     "execution_count": 6,
     "metadata": {},
     "output_type": "execute_result"
    }
   ],
   "source": [
    "(not False) or (not True)"
   ]
  },
  {
   "cell_type": "code",
   "execution_count": 5,
   "id": "3a3e54c3",
   "metadata": {},
   "outputs": [
    {
     "data": {
      "text/plain": [
       "'\\n5. What are the six comparison operators?\\n\\n'"
      ]
     },
     "execution_count": 5,
     "metadata": {},
     "output_type": "execute_result"
    }
   ],
   "source": [
    "\"\"\"\n",
    "5. What are the six comparison operators?\n",
    "\n",
    "The six comparison operators are\n",
    "\n",
    "Equal to (x == y)\n",
    "Not equal to (x != y)\n",
    "Greater than (x > y)\n",
    "Lesser than (x < y)\n",
    "Greater than or equal to (x >-= y)\n",
    "Lesser than or equal to (x <= y)\n",
    "\"\"\""
   ]
  },
  {
   "cell_type": "code",
   "execution_count": 6,
   "id": "65931111",
   "metadata": {},
   "outputs": [
    {
     "data": {
      "text/plain": [
       "'\\n6. How do you tell the difference between the equal to and assignment operators?Describe a condition and when you would use one.\\n\\n'"
      ]
     },
     "execution_count": 6,
     "metadata": {},
     "output_type": "execute_result"
    }
   ],
   "source": [
    "\"\"\"\n",
    "6. How do you tell the difference between the equal to and assignment operators?Describe a condition and when you would use one.\n",
    "\n",
    "Equal to operator is \"==\", we use this to compare like if x == y.\n",
    "Assignment operator is \"=\" for example we assign integers, real numbers, complex numbers, strings and boolean numbers to variable using this operator.\n",
    "\n",
    "\"\"\""
   ]
  },
  {
   "cell_type": "code",
   "execution_count": 7,
   "id": "8031af73",
   "metadata": {},
   "outputs": [
    {
     "data": {
      "text/plain": [
       "\"\\n7. Identify the three blocks in this code:\\nspam = 0\\nif spam == 10:\\nprint('eggs')\\nif spam > 5:\\nprint('bacon')\\nelse:\\nprint('ham')\\nprint('spam')\\nprint('spam')\\n\""
      ]
     },
     "execution_count": 7,
     "metadata": {},
     "output_type": "execute_result"
    }
   ],
   "source": [
    "\"\"\"\n",
    "7. Identify the three blocks in this code:\n",
    "spam = 0\n",
    "if spam == 10:\n",
    "print('eggs')\n",
    "if spam > 5:\n",
    "print('bacon')\n",
    "else:\n",
    "print('ham')\n",
    "print('spam')\n",
    "print('spam')\n",
    "\"\"\"\n",
    "\n",
    "\"\"\"\n",
    "1st block\n",
    "spam = 0\n",
    "if spam == 10:\n",
    "print('eggs')\n",
    "\n",
    "\"\"\"\n",
    "\n",
    "\"\"\"\n",
    "2nd block\n",
    "if spam > 5:\n",
    "print('bacon')\n",
    "else:\n",
    "print('ham')\n",
    "\"\"\"\n",
    "\n",
    "\"\"\"\n",
    "3rd block\n",
    "print('spam')\n",
    "print('spam')\n",
    "\"\"\""
   ]
  },
  {
   "cell_type": "code",
   "execution_count": 8,
   "id": "d53d77fd",
   "metadata": {},
   "outputs": [
    {
     "data": {
      "text/plain": [
       "'\\n8. Write code that prints Hello if 1 is stored in spam, prints Howdy if 2 is stored in spam, and prints Greetings! if anything else is stored in spam.\\n\\n'"
      ]
     },
     "execution_count": 8,
     "metadata": {},
     "output_type": "execute_result"
    }
   ],
   "source": [
    "\"\"\"\n",
    "8. Write code that prints Hello if 1 is stored in spam, prints Howdy if 2 is stored in spam, and prints Greetings! if anything else is stored in spam.\n",
    "\n",
    "spam = (input(\"Enter spam string: \"))\n",
    "if spam == \"1\":\n",
    "    print(\"Hello\")\n",
    "elif spam == \"2\":\n",
    "    print(\"Howdy\")\n",
    "else:\n",
    "    print(\"!Greetings\")\n",
    "\"\"\""
   ]
  },
  {
   "cell_type": "code",
   "execution_count": 7,
   "id": "4be15a53",
   "metadata": {},
   "outputs": [
    {
     "name": "stdout",
     "output_type": "stream",
     "text": [
      "Enter spam string: 1\n",
      "Hello\n"
     ]
    }
   ],
   "source": [
    "spam = (input(\"Enter spam string: \"))\n",
    "if spam == \"1\":\n",
    "    print(\"Hello\")\n",
    "elif spam == \"2\":\n",
    "    print(\"Howdy\")\n",
    "else:\n",
    "    print(\"!Greetings\")"
   ]
  },
  {
   "cell_type": "code",
   "execution_count": 8,
   "id": "b18d4595",
   "metadata": {},
   "outputs": [
    {
     "name": "stdout",
     "output_type": "stream",
     "text": [
      "Enter spam string: 2\n",
      "Howdy\n"
     ]
    }
   ],
   "source": [
    "spam = (input(\"Enter spam string: \"))\n",
    "if spam == \"1\":\n",
    "    print(\"Hello\")\n",
    "elif spam == \"2\":\n",
    "    print(\"Howdy\")\n",
    "else:\n",
    "    print(\"!Greetings\")"
   ]
  },
  {
   "cell_type": "code",
   "execution_count": 9,
   "id": "199ed94d",
   "metadata": {},
   "outputs": [
    {
     "name": "stdout",
     "output_type": "stream",
     "text": [
      "Enter spam string: 3\n",
      "!Greetings\n"
     ]
    }
   ],
   "source": [
    "spam = (input(\"Enter spam string: \"))\n",
    "if spam == \"1\":\n",
    "    print(\"Hello\")\n",
    "elif spam == \"2\":\n",
    "    print(\"Howdy\")\n",
    "else:\n",
    "    print(\"!Greetings\")"
   ]
  },
  {
   "cell_type": "code",
   "execution_count": 9,
   "id": "bb8a46f0",
   "metadata": {},
   "outputs": [
    {
     "data": {
      "text/plain": [
       "'\\n9.If your programme is stuck in an endless loop, what keys you’ll press?\\n\\n'"
      ]
     },
     "execution_count": 9,
     "metadata": {},
     "output_type": "execute_result"
    }
   ],
   "source": [
    "\"\"\"\n",
    "9.If your programme is stuck in an endless loop, what keys you’ll press?\n",
    "\n",
    "We need to press Ctrl + c\n",
    "\n",
    "\"\"\""
   ]
  },
  {
   "cell_type": "code",
   "execution_count": 10,
   "id": "2d3159fc",
   "metadata": {},
   "outputs": [
    {
     "data": {
      "text/plain": [
       "'\\n10. How can you tell the difference between break and continue?\\n\\n'"
      ]
     },
     "execution_count": 10,
     "metadata": {},
     "output_type": "execute_result"
    }
   ],
   "source": [
    "\"\"\"\n",
    "10. How can you tell the difference between break and continue?\n",
    "\n",
    "The break statement results in immediate exit from the loop,on the execution of break statement the control flows to the 1st statement outside the loop\n",
    "The continue command can be used within the body of the loop to immediately continue with the next iteration of the loop discarding the current iteration\n",
    "\n",
    "\"\"\""
   ]
  },
  {
   "cell_type": "code",
   "execution_count": 11,
   "id": "8f90f678",
   "metadata": {},
   "outputs": [
    {
     "data": {
      "text/plain": [
       "'\\n11. In a for loop, what is the difference between range(10), range(0, 10), and range(0, 10, 1)?\\n\\n'"
      ]
     },
     "execution_count": 11,
     "metadata": {},
     "output_type": "execute_result"
    }
   ],
   "source": [
    "\"\"\"\n",
    "11. In a for loop, what is the difference between range(10), range(0, 10), and range(0, 10, 1)?\n",
    "\n",
    "\"\"\"\n"
   ]
  },
  {
   "cell_type": "code",
   "execution_count": 1,
   "id": "2ece6744",
   "metadata": {},
   "outputs": [
    {
     "name": "stdout",
     "output_type": "stream",
     "text": [
      "0\n",
      "1\n",
      "2\n",
      "3\n",
      "4\n",
      "5\n",
      "6\n",
      "7\n",
      "8\n",
      "9\n"
     ]
    }
   ],
   "source": [
    "for i in range(10):\n",
    "    print(i)\n",
    "#for loop will terminate when i reaches 10"
   ]
  },
  {
   "cell_type": "code",
   "execution_count": 2,
   "id": "dddeed11",
   "metadata": {},
   "outputs": [
    {
     "name": "stdout",
     "output_type": "stream",
     "text": [
      "0\n",
      "1\n",
      "2\n",
      "3\n",
      "4\n",
      "5\n",
      "6\n",
      "7\n",
      "8\n",
      "9\n"
     ]
    }
   ],
   "source": [
    "for i in range(0,10):\n",
    "    print(i)\n",
    "#for loop will start at 0 and terminate when i reaches 10, so 0 to 9 will be printed"
   ]
  },
  {
   "cell_type": "code",
   "execution_count": 3,
   "id": "afc06b91",
   "metadata": {},
   "outputs": [
    {
     "name": "stdout",
     "output_type": "stream",
     "text": [
      "0\n",
      "1\n",
      "2\n",
      "3\n",
      "4\n",
      "5\n",
      "6\n",
      "7\n",
      "8\n",
      "9\n"
     ]
    }
   ],
   "source": [
    "for i in range (0,10,1):\n",
    "    print(i)\n",
    "# for loop will start at 0, terminate when i reaches 10 and with increments of 1 "
   ]
  },
  {
   "cell_type": "code",
   "execution_count": 1,
   "id": "828c99a3",
   "metadata": {},
   "outputs": [
    {
     "name": "stdout",
     "output_type": "stream",
     "text": [
      "1\n",
      "2\n",
      "3\n",
      "4\n",
      "5\n",
      "6\n",
      "7\n",
      "8\n",
      "9\n",
      "10\n"
     ]
    }
   ],
   "source": [
    "\"\"\"\n",
    "12. Write a short program that prints the numbers 1 to 10 using a for loop. Then write an equivalent program that prints the numbers 1 to 10 using a while loop.\n",
    "\n",
    "For Loop\n",
    "\n",
    "for i in range(1,11,1): #range(start,stop, step)\n",
    "    print(i)\n",
    "\n",
    "\"\"\"\n",
    "for i in range(1,11,1): #range(start,stop, step)\n",
    "    print(i)\n"
   ]
  },
  {
   "cell_type": "code",
   "execution_count": 2,
   "id": "fc45d9ee",
   "metadata": {},
   "outputs": [
    {
     "name": "stdout",
     "output_type": "stream",
     "text": [
      "1\n",
      "2\n",
      "3\n",
      "4\n",
      "5\n",
      "6\n",
      "7\n",
      "8\n",
      "9\n",
      "10\n"
     ]
    }
   ],
   "source": [
    "\"\"\"\n",
    "12. Write a short program that prints the numbers 1 to 10 using a for loop. Then write an equivalent program that prints the numbers 1 to 10 using a while loop.\n",
    "\n",
    "While Loop\n",
    "\n",
    "count = 1\n",
    "while count <= 10:\n",
    "    print(count)\n",
    "    count +=1\n",
    "\"\"\"\n",
    "count = 1\n",
    "while count <= 10:\n",
    "    print(count)\n",
    "    count +=1\n"
   ]
  },
  {
   "cell_type": "code",
   "execution_count": null,
   "id": "3686f21f",
   "metadata": {},
   "outputs": [],
   "source": [
    "\"\"\"\n",
    "13. If you had a function named bacon() inside a module named spam, how would you call it after importing spam?\n",
    "\n",
    "we can call the function by giving the function name in this case it is beacon()\n",
    "\n",
    "\"\"\""
   ]
  }
 ],
 "metadata": {
  "kernelspec": {
   "display_name": "Python 3 (ipykernel)",
   "language": "python",
   "name": "python3"
  },
  "language_info": {
   "codemirror_mode": {
    "name": "ipython",
    "version": 3
   },
   "file_extension": ".py",
   "mimetype": "text/x-python",
   "name": "python",
   "nbconvert_exporter": "python",
   "pygments_lexer": "ipython3",
   "version": "3.10.9"
  }
 },
 "nbformat": 4,
 "nbformat_minor": 5
}
