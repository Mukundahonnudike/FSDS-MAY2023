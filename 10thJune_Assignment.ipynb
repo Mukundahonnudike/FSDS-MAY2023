{
 "cells": [
  {
   "cell_type": "code",
   "execution_count": 2,
   "id": "34a3d925",
   "metadata": {},
   "outputs": [
    {
     "name": "stdout",
     "output_type": "stream",
     "text": [
      "0b101\n",
      "The sum is 11\n"
     ]
    }
   ],
   "source": [
    "\"\"\"\n",
    "1. In Python, what is the difference between a built-in function and a user-defined function? Provide an\n",
    "example of each.\n",
    "\n",
    "Functions which are already built in python library are called buit in functions\n",
    "Functions which we create to do specific task inside python is called user defined functions\n",
    "\n",
    "b=5\n",
    "print(bin(5))\n",
    "\n",
    "def add_numbers(x,y):\n",
    "   sum = x + y\n",
    "   return sum\n",
    "\n",
    "num1 = 5\n",
    "num2 = 6\n",
    "\n",
    "print(\"The sum is\", add_numbers(num1, num2))\n",
    "\"\"\""
   ]
  },
  {
   "cell_type": "code",
   "execution_count": 5,
   "id": "1dfbac07",
   "metadata": {},
   "outputs": [
    {
     "name": "stdout",
     "output_type": "stream",
     "text": [
      "FemCode is working on an Edpresso\n"
     ]
    }
   ],
   "source": [
    "\"\"\"\n",
    "2. How can you pass arguments to a function in Python? Explain the difference between positional\n",
    "arguments and keyword arguments.\n",
    "\n",
    "Information can be passed into function as arguments. Arguments are specified after function name inside the parameters, arguments are the values assigned to these parameters when passed into a function (or method) during a function call.\n",
    "\n",
    "Positional Arguments are values that are passed into a function based on the order in which the parameters were listed during the function definition. Here, the order is especially important as values passed into these functions are assigned to corresponding parameters based on their position.\n",
    "In these examples, we see that when the positions of the arguments are changed, the output produces different results. Though the code in example B isn’t wrong, the values that have been passed into the function are in the wrong order; thus, producing a result that does not match our desired output. Edpresso is the name of the project that is being worked on by the team, FemCode, not the other way around.\n",
    "Now that the understanding is clear, let’s move on to keyword arguments.\n",
    "\n",
    "Keyword arguments (or named arguments) are values that, when passed into a function, are identifiable by specific parameter names. A keyword argument is preceded by a parameter and the assignment operator, = .\n",
    "As you can see, we had the same output from both codes although, when calling the function, the arguments in each code had different positions.\n",
    "\n",
    "With keyword arguments, as long as you assign a value to the parameter, the positions of the arguments do not matter.\n",
    "\n",
    "However, they do have to come after positional arguments and before default/optional arguments in a function call.\n",
    "\n",
    "def team(name, project):\n",
    "    print(name, \"is working on an\", project)\n",
    "    \n",
    "team(\"FemCode\", \"Edpresso\")\n",
    "\n",
    "def team(name, project):\n",
    "    print(name, \"is working on an\", project)\n",
    "    \n",
    "team(\"Edpresso\", \"FemCode\")\n",
    "\n",
    "def team(name, project, members=None):\n",
    "    team.name= name\n",
    "    team.project= project\n",
    "    team.members= members\n",
    "    print(name, \"is working on an\", project)\n",
    "    \n",
    "team(\"FemCode\", project = \"Edpresso\")\n",
    "\"\"\""
   ]
  },
  {
   "cell_type": "code",
   "execution_count": 6,
   "id": "17bd093f",
   "metadata": {},
   "outputs": [
    {
     "name": "stdout",
     "output_type": "stream",
     "text": [
      "odd\n"
     ]
    }
   ],
   "source": [
    "\"\"\"\n",
    "3. What is the purpose of the return statement in a function? Can a function have multiple return\n",
    "statements? Explain with an example.\n",
    "\n",
    "When a function is called it automatically returns value after its entire body is executed. It is possible to ensure that the function returns immediately whenever required using return statement.\n",
    "A function can have multiple return statements. When any of them is executed, the function terminates. A function can return multiple types of values. Python functions can return multiple values in a single return statement.\n",
    "\n",
    "def type_of_int(i):\n",
    "    if i % 2 == 0:\n",
    "        return 'even'\n",
    "    else:\n",
    "        return 'odd'\n",
    " \n",
    "result = type_of_int(7)\n",
    " \n",
    "print(result)\n",
    "\"\"\""
   ]
  },
  {
   "cell_type": "code",
   "execution_count": 7,
   "id": "dee1543b",
   "metadata": {},
   "outputs": [
    {
     "data": {
      "text/plain": [
       "16"
      ]
     },
     "execution_count": 7,
     "metadata": {},
     "output_type": "execute_result"
    }
   ],
   "source": [
    "\"\"\"\n",
    "4. What are lambda functions in Python? How are they different from regular functions? Provide an\n",
    "example where a lambda function can be useful.\n",
    "\n",
    "Pyhton provides  convenient mechanism for creating anonymous  functions called lambda functions and permits them by invoking them using their reference\n",
    "Lambda functions are ideally used when we have something simple to be done basically single line expressions and we are more interested in quickly getting the job done rather then formally naming the function, where as reqular functions can have multiple lines of code\n",
    "\n",
    "\n",
    "a=lambda x: x**2\n",
    "a(4)\n",
    "\"\"\""
   ]
  },
  {
   "cell_type": "code",
   "execution_count": 11,
   "id": "a5400667",
   "metadata": {},
   "outputs": [
    {
     "name": "stdout",
     "output_type": "stream",
     "text": [
      "global :  1\n",
      "Inside f() :  1\n",
      "global :  1\n",
      "Inside g() :  2\n",
      "global :  1\n",
      "Inside h() :  3\n",
      "global :  3\n"
     ]
    }
   ],
   "source": [
    "\"\"\"\n",
    "5. How does the concept of \"scope\" apply to functions in Python? Explain the difference between local\n",
    "scope and global scope.\n",
    "\n",
    "if you assign a value to a name inside a function, then that name will have a local Python scope. In contrast, if you assign a value to a name outside of all functions, at the top level of a module then that name will have a global Python scope.\n",
    "\n",
    "a = 1\n",
    "def f():\n",
    "    print('Inside f() : ', a)\n",
    " \n",
    "\n",
    "def g():\n",
    "    a = 2\n",
    "    print('Inside g() : ', a)\n",
    " \n",
    "\n",
    "def h():\n",
    "    global a\n",
    "    a = 3\n",
    "    print('Inside h() : ', a)\n",
    "\n",
    "print('global : ', a)\n",
    "f()\n",
    "print('global : ', a)\n",
    "g()\n",
    "print('global : ', a)\n",
    "h()\n",
    "print('global : ', a)\n",
    "\"\"\"\n",
    "\n",
    "\n"
   ]
  },
  {
   "cell_type": "code",
   "execution_count": 12,
   "id": "bdf3ad00",
   "metadata": {},
   "outputs": [
    {
     "name": "stdout",
     "output_type": "stream",
     "text": [
      "abc\n",
      "100\n",
      "[0, 1, 2]\n"
     ]
    }
   ],
   "source": [
    "\"\"\"\n",
    "6. How can you use the \"return\" statement in a Python function to return multiple values?\n",
    "\n",
    "In Python, you can return multiple values by simply separating them with commas in the return statement. \n",
    "\n",
    "def test2():\n",
    "    return 'abc', 100, [0, 1, 2]\n",
    "\n",
    "a, b, c = test2()\n",
    "\n",
    "print(a)\n",
    "\n",
    "\n",
    "print(b)\n",
    "\n",
    "\n",
    "print(c)\n",
    "\"\"\"\n",
    "\n"
   ]
  },
  {
   "cell_type": "code",
   "execution_count": null,
   "id": "09b1c0b1",
   "metadata": {},
   "outputs": [],
   "source": [
    "\"\"\"\n",
    "7. What is the difference between the \"pass by value\" and \"pass by reference\" concepts when it\n",
    "comes to function arguments in Python?\n",
    "\n",
    "When you pass function arguments by reference, those arguments are only references to existing values. In contrast, when you pass arguments by value, those arguments become independent copies of the original values.\n",
    "The difference between pass-by-reference and pass-by-value is that modifications made to arguments passed in by reference in the called function have effect in the calling function, whereas modifications made to arguments passed in by value in the called function can not affect the calling function.\n",
    "\n",
    "\n",
    "#Pass by Value\n",
    "\n",
    "# This program illustrates the concept of call by object reference using mutable objects.\n",
    "def my_funct(y):\n",
    "    print('Values inside the function before modifying:',y)\n",
    "    y[2] = 4 # modifying value.\n",
    "    print('Values inside the function after modifying:',y)\n",
    "\n",
    "# Main part of program.\n",
    "x = [1, 2, 3] # List of values.\n",
    "print('Values outside the function before modifying:',x)\n",
    "\n",
    "my_funct(x) # calling function with passing x to function parameter y.\n",
    "print('Values outside the function after modifying:',x)\n",
    "\n",
    "#Pass by reference\n",
    "# This program is a demonstration of call by reference overwritten.\n",
    "def my_func(y):\n",
    "    print('Values inside the function before modifying:',y)\n",
    "    y[1] = 60\n",
    "    print('Values inside the function after modifying:',y)\n",
    "    y = [1, 2, 3, 4, 5] # It would assign a new reference to y.\n",
    "    print('y =',y)\n",
    "    print('x =',x)\n",
    "\n",
    "# Main program.\n",
    "x = [10, 20, 30, 40]\n",
    "print('Values outside the function before modifying:',x)\n",
    "my_func(x)\n",
    "print('Values outside the function after modifying:',x)\n",
    "\n",
    "\"\"\""
   ]
  },
  {
   "cell_type": "code",
   "execution_count": 19,
   "id": "137bd0ca",
   "metadata": {},
   "outputs": [
    {
     "data": {
      "text/plain": [
       "2.302585092994046"
      ]
     },
     "execution_count": 19,
     "metadata": {},
     "output_type": "execute_result"
    }
   ],
   "source": [
    "\"\"\"\n",
    "8. Create a function that can intake integer or decimal value and do following operations:\n",
    "a. Logarithmic function (log x)\n",
    "b. Exponential function (exp(x))\n",
    "c. Power function with base 2 (2x)\n",
    "d. Square root\n",
    "\n",
    "import math\n",
    "a=lambda x: math.log(x)\n",
    "a(10)\n",
    "\"\"\""
   ]
  },
  {
   "cell_type": "code",
   "execution_count": 20,
   "id": "1235437a",
   "metadata": {},
   "outputs": [
    {
     "data": {
      "text/plain": [
       "7.38905609893065"
      ]
     },
     "execution_count": 20,
     "metadata": {},
     "output_type": "execute_result"
    }
   ],
   "source": [
    "b=lambda y: math.exp(y)\n",
    "b(2)"
   ]
  },
  {
   "cell_type": "code",
   "execution_count": 22,
   "id": "399e01b6",
   "metadata": {},
   "outputs": [
    {
     "data": {
      "text/plain": [
       "8.0"
      ]
     },
     "execution_count": 22,
     "metadata": {},
     "output_type": "execute_result"
    }
   ],
   "source": [
    "c=lambda z: math.pow(2,3)\n",
    "c(2)"
   ]
  },
  {
   "cell_type": "code",
   "execution_count": 21,
   "id": "0725942f",
   "metadata": {},
   "outputs": [
    {
     "data": {
      "text/plain": [
       "2.0"
      ]
     },
     "execution_count": 21,
     "metadata": {},
     "output_type": "execute_result"
    }
   ],
   "source": [
    "d=lambda w: math.sqrt(w)\n",
    "d(4)"
   ]
  },
  {
   "cell_type": "code",
   "execution_count": 24,
   "id": "c20da995",
   "metadata": {},
   "outputs": [
    {
     "name": "stdout",
     "output_type": "stream",
     "text": [
      "Enter the first name: Mukunda\n",
      "Enter the Last name: Honnudike\n",
      "Last Name is  Honnudike\n"
     ]
    }
   ],
   "source": [
    "\"\"\"\n",
    "9. Create a function that takes a full name as an argument and returns first name and last name.\n",
    "\n",
    "\n",
    "def format_name():\n",
    "    firstname = str(input(\"Enter the first name: \"))\n",
    "    lastname = str(input(\"Enter the Last name: \"))\n",
    "    \n",
    "    format_first_name = firstname.capitalize()\n",
    "    format_last_name = lastname.capitalize()\n",
    "    \n",
    "    print(\"Last Name is \", format_last_name)\n",
    "    \n",
    "format_name()\n",
    "\"\"\""
   ]
  },
  {
   "cell_type": "code",
   "execution_count": null,
   "id": "b9c63db4",
   "metadata": {},
   "outputs": [],
   "source": []
  }
 ],
 "metadata": {
  "kernelspec": {
   "display_name": "Python 3 (ipykernel)",
   "language": "python",
   "name": "python3"
  },
  "language_info": {
   "codemirror_mode": {
    "name": "ipython",
    "version": 3
   },
   "file_extension": ".py",
   "mimetype": "text/x-python",
   "name": "python",
   "nbconvert_exporter": "python",
   "pygments_lexer": "ipython3",
   "version": "3.10.9"
  }
 },
 "nbformat": 4,
 "nbformat_minor": 5
}
